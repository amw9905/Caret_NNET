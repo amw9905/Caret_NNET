{
 "cells": [
  {
   "cell_type": "code",
   "execution_count": 114,
   "metadata": {},
   "outputs": [],
   "source": [
    "library(caret)\n",
    "library(keras)\n",
    "library(nnet)"
   ]
  },
  {
   "cell_type": "markdown",
   "metadata": {},
   "source": [
    "# Simulate Data"
   ]
  },
  {
   "cell_type": "code",
   "execution_count": 115,
   "metadata": {
    "collapsed": true
   },
   "outputs": [],
   "source": [
    "set.seed(1234)\n",
    "\n",
    "#Create data set\n",
    "data_set <- twoClassSim(20000,\n",
    "                        intercept = -6,\n",
    "                        linearVars = 8,\n",
    "                        noiseVars = 8)\n",
    "\n",
    "\n",
    "#Create train/tests sets\n",
    "index <- createDataPartition(data_set$Class, p = .5, list=FALSE)\n",
    "\n",
    "train_set <- data_set[index,]\n",
    "test_set <- data_set[-index,]"
   ]
  },
  {
   "cell_type": "code",
   "execution_count": 116,
   "metadata": {
    "collapsed": true
   },
   "outputs": [],
   "source": [
    "#Dependent / Independent Variables\n",
    "Y <-'Class'\n",
    "X <-names(train_set)[!names(train_set) %in% Y]"
   ]
  },
  {
   "cell_type": "markdown",
   "metadata": {},
   "source": [
    "# RF"
   ]
  },
  {
   "cell_type": "code",
   "execution_count": 117,
   "metadata": {},
   "outputs": [
    {
     "data": {
      "text/plain": [
       "Random Forest \n",
       "\n",
       "20000 samples\n",
       "   21 predictor\n",
       "    2 classes: 'Class1', 'Class2' \n",
       "\n",
       "No pre-processing\n",
       "Resampling: Cross-Validated (4 fold, repeated 2 times) \n",
       "Summary of sample sizes: 15001, 14999, 15000, 15000, 15000, 14999, ... \n",
       "Resampling results across tuning parameters:\n",
       "\n",
       "  mtry  Accuracy   Kappa    \n",
       "   3    0.8750000  0.7369859\n",
       "   6    0.8832249  0.7557457\n",
       "   9    0.8852248  0.7604558\n",
       "  12    0.8846247  0.7593453\n",
       "\n",
       "Accuracy was used to select the optimal model using  the largest value.\n",
       "The final value used for the model was mtry = 9."
      ]
     },
     "metadata": {},
     "output_type": "display_data"
    }
   ],
   "source": [
    "ctrl <- trainControl(method = \"repeatedcv\",\n",
    "                     number = 4,\n",
    "                     repeats = 2,\n",
    "                     classProbs = TRUE)\n",
    "\n",
    "tune_g <- data.frame(mtry = c(3,6,9,12))\n",
    "\n",
    "cv_rftrain <- train(x=data_set[,X],\n",
    "                 y=data_set[,Y],\n",
    "                 method = \"rf\",\n",
    "                 verbose = FALSE,\n",
    "                 trControl = ctrl,\n",
    "                 tuneGrid = tune_g,\n",
    "                 allowParallel=TRUE)\n",
    "\n",
    "cv_rftrain"
   ]
  },
  {
   "cell_type": "markdown",
   "metadata": {},
   "source": [
    "# NNET"
   ]
  },
  {
   "cell_type": "code",
   "execution_count": 118,
   "metadata": {},
   "outputs": [
    {
     "data": {
      "text/plain": [
       "Neural Network \n",
       "\n",
       "10000 samples\n",
       "   21 predictor\n",
       "    2 classes: 'Class1', 'Class2' \n",
       "\n",
       "No pre-processing\n",
       "Resampling: Cross-Validated (4 fold, repeated 2 times) \n",
       "Summary of sample sizes: 7500, 7501, 7499, 7500, 7500, 7501, ... \n",
       "Resampling results across tuning parameters:\n",
       "\n",
       "  size  decay  Accuracy   Kappa    \n",
       "   4    0e+00  0.9075506  0.8082853\n",
       "   4    1e-04  0.9085497  0.8105479\n",
       "   4    1e-03  0.9056501  0.8044078\n",
       "   4    1e-02  0.9078000  0.8088829\n",
       "  16    0e+00  0.8969502  0.7865945\n",
       "  16    1e-04  0.8966001  0.7860403\n",
       "  16    1e-03  0.8915497  0.7754655\n",
       "  16    1e-02  0.8965502  0.7860122\n",
       "  32    0e+00  0.8708504  0.7329592\n",
       "  32    1e-04  0.8723500  0.7360087\n",
       "  32    1e-03  0.8731498  0.7374665\n",
       "  32    1e-02  0.8747498  0.7410184\n",
       "\n",
       "Accuracy was used to select the optimal model using  the largest value.\n",
       "The final values used for the model were size = 4 and decay = 1e-04."
      ]
     },
     "metadata": {},
     "output_type": "display_data"
    }
   ],
   "source": [
    "ctrl <- trainControl(method = \"repeatedcv\",\n",
    "                     number = 4,\n",
    "                     repeats = 2,\n",
    "                     classProbs = TRUE)\n",
    "\n",
    "tune_g <- expand.grid(size = c(4,16,32),\n",
    "                    decay  = c(0,.01,.001,.0001))\n",
    "\n",
    "\n",
    "model_nnet <- train(train_set[,X],\n",
    "                  train_set[,Y],\n",
    "                  method='nnet',\n",
    "                  trace = FALSE,\n",
    "                  tuneGrid = tune_g,  \n",
    "                  trControl = ctrl)\n",
    "\n",
    "model_nnet"
   ]
  },
  {
   "cell_type": "markdown",
   "metadata": {},
   "source": [
    "# Keras"
   ]
  },
  {
   "cell_type": "code",
   "execution_count": 119,
   "metadata": {
    "collapsed": true
   },
   "outputs": [],
   "source": [
    "#Build Keras Model\n",
    "model_keras <- keras_model_sequential()\n",
    "\n",
    "#Set up Y vector\n",
    "y_train_vec <- ifelse(train_set[,Y]  == \"Class2\", 1, 0)\n",
    "\n",
    "model_keras <- model_keras %>% \n",
    "  \n",
    "  # First hidden layer\n",
    "  layer_dense(\n",
    "    units              = 16, \n",
    "    kernel_initializer = \"uniform\", \n",
    "    activation         = \"relu\", \n",
    "    input_shape        = ncol( train_set[,X] )) %>% \n",
    "  \n",
    "  # Dropout to prevent overfitting\n",
    "  layer_dropout(rate = 0.1) %>%\n",
    "  \n",
    "  # Second hidden layer\n",
    "  layer_dense(\n",
    "    units              = 16, \n",
    "    kernel_initializer = \"uniform\", \n",
    "    activation         = \"relu\") %>% \n",
    "  \n",
    "  # Dropout to prevent overfitting\n",
    "  layer_dropout(rate = 0.1) %>%\n",
    "\n",
    "\n",
    "\n",
    "  # Third hidden layer\n",
    "  layer_dense(\n",
    "    units              = 16, \n",
    "    kernel_initializer = \"uniform\", \n",
    "    activation         = \"relu\") %>% \n",
    "  \n",
    "  # Dropout to prevent overfitting\n",
    "  layer_dropout(rate = 0.1) %>%\n",
    "  \n",
    "  # Output layer\n",
    "  layer_dense(\n",
    "    units              = 1, \n",
    "    kernel_initializer = \"uniform\", \n",
    "    activation         = \"sigmoid\") %>% \n",
    "  \n",
    "  # Compile ANN\n",
    "  compile(\n",
    "    optimizer = 'adam',\n",
    "    loss      = 'binary_crossentropy',\n",
    "    metrics   = c('accuracy')\n",
    "  )"
   ]
  },
  {
   "cell_type": "code",
   "execution_count": 120,
   "metadata": {
    "collapsed": true
   },
   "outputs": [],
   "source": [
    "history <- fit(\n",
    "  object           = model_keras, \n",
    "  x                = as.matrix( train_set[,X] ), \n",
    "  y                = as.matrix( y_train_vec ),\n",
    "  batch_size       = 50, \n",
    "  epochs           = 50,\n",
    "  validation_split = 0.30\n",
    ")"
   ]
  },
  {
   "cell_type": "code",
   "execution_count": 121,
   "metadata": {},
   "outputs": [
    {
     "name": "stdout",
     "output_type": "stream",
     "text": [
      "Trained on 7,000 samples, validated on 3,000 samples (batch_size=50, epochs=50)\n",
      "Final epoch (plot to see history):\n",
      "val_loss: 0.1988\n",
      " val_acc: 0.9193\n",
      "    loss: 0.2012\n",
      "     acc: 0.9151 \n"
     ]
    }
   ],
   "source": [
    "print(history)"
   ]
  },
  {
   "cell_type": "code",
   "execution_count": 122,
   "metadata": {},
   "outputs": [
    {
     "data": {},
     "metadata": {},
     "output_type": "display_data"
    },
    {
     "data": {
      "image/png": "[encoded data removed]",
      "text/plain": [
       "plot without title"
      ]
     },
     "metadata": {},
     "output_type": "display_data"
    }
   ],
   "source": [
    "plot(history)"
   ]
  },
  {
   "cell_type": "markdown",
   "metadata": {},
   "source": [
    "# Compare"
   ]
  },
  {
   "cell_type": "code",
   "execution_count": 123,
   "metadata": {},
   "outputs": [],
   "source": [
    "require(PRROC)"
   ]
  },
  {
   "cell_type": "code",
   "execution_count": 124,
   "metadata": {
    "collapsed": true
   },
   "outputs": [],
   "source": [
    "rf_prob <- predict(cv_rftrain, test_set[,X], type=\"prob\")$Class2\n",
    "\n",
    "nn_prob <- predict(model_nnet, test_set[,X], type=\"prob\")$Class2\n",
    "\n",
    "keras_prob  <- predict_proba(object = model_keras, x = as.matrix(test_set[,X])) %>%\n",
    "    as.vector()"
   ]
  },
  {
   "cell_type": "code",
   "execution_count": 132,
   "metadata": {},
   "outputs": [
    {
     "data": {
      "text/plain": [
       "\n",
       "  Precision-recall curve\n",
       "\n",
       "    Area under curve (Integral):\n",
       "     1 \n",
       "\n",
       "    Area under curve (Davis & Goadrich):\n",
       "     1 \n",
       "\n",
       "    Curve not computed ( can be done by using curve=TRUE )"
      ]
     },
     "metadata": {},
     "output_type": "display_data"
    },
    {
     "data": {
      "text/plain": [
       "\n",
       "  ROC curve\n",
       "\n",
       "    Area under curve:\n",
       "     1 \n",
       "\n",
       "    Curve not computed ( can be done by using curve=TRUE )"
      ]
     },
     "metadata": {},
     "output_type": "display_data"
    },
    {
     "data": {
      "text/html": [
       "0.9999"
      ],
      "text/latex": [
       "0.9999"
      ],
      "text/markdown": [
       "0.9999"
      ],
      "text/plain": [
       "[1] 0.9999"
      ]
     },
     "metadata": {},
     "output_type": "display_data"
    }
   ],
   "source": [
    "class2 <- rf_prob[test_set[,Y] == 'Class2']\n",
    "class1 <- rf_prob[test_set[,Y] == 'Class1']\n",
    "\n",
    "#Curve\n",
    "pr <- pr.curve(scores.class0 = class2, scores.class1 = class1)\n",
    "pr\n",
    "\n",
    "roc <- roc.curve(scores.class0 = class2, scores.class1 = class1)\n",
    "roc\n",
    "\n",
    "\n",
    "mean((rf_prob > .65 & test_set[,Y] == 'Class2') | (rf_prob <= .65 & test_set[,Y] != 'Class2') )"
   ]
  },
  {
   "cell_type": "code",
   "execution_count": 126,
   "metadata": {},
   "outputs": [
    {
     "data": {
      "text/plain": [
       "\n",
       "  Precision-recall curve\n",
       "\n",
       "    Area under curve (Integral):\n",
       "     0.9616792 \n",
       "\n",
       "    Area under curve (Davis & Goadrich):\n",
       "     0.9616792 \n",
       "\n",
       "    Curve not computed ( can be done by using curve=TRUE )"
      ]
     },
     "metadata": {},
     "output_type": "display_data"
    },
    {
     "data": {
      "text/plain": [
       "\n",
       "  ROC curve\n",
       "\n",
       "    Area under curve:\n",
       "     0.9727954 \n",
       "\n",
       "    Curve not computed ( can be done by using curve=TRUE )"
      ]
     },
     "metadata": {},
     "output_type": "display_data"
    },
    {
     "data": {
      "text/html": [
       "0.9136"
      ],
      "text/latex": [
       "0.9136"
      ],
      "text/markdown": [
       "0.9136"
      ],
      "text/plain": [
       "[1] 0.9136"
      ]
     },
     "metadata": {},
     "output_type": "display_data"
    }
   ],
   "source": [
    "class2 <- nn_prob[test_set[,Y] == 'Class2']\n",
    "class1 <- nn_prob[test_set[,Y] == 'Class1']\n",
    "\n",
    "#Curve\n",
    "pr <- pr.curve(scores.class0 = class2, scores.class1 = class1)\n",
    "pr\n",
    "\n",
    "roc <- roc.curve(scores.class0 = class2, scores.class1 = class1)\n",
    "roc\n",
    "\n",
    "mean((nn_prob > .5 & test_set[,Y] == 'Class2') | (nn_prob <= .5 & test_set[,Y] != 'Class2') )"
   ]
  },
  {
   "cell_type": "code",
   "execution_count": 127,
   "metadata": {},
   "outputs": [
    {
     "data": {
      "text/plain": [
       "\n",
       "  Precision-recall curve\n",
       "\n",
       "    Area under curve (Integral):\n",
       "     0.9673916 \n",
       "\n",
       "    Area under curve (Davis & Goadrich):\n",
       "     0.9673916 \n",
       "\n",
       "    Curve not computed ( can be done by using curve=TRUE )"
      ]
     },
     "metadata": {},
     "output_type": "display_data"
    },
    {
     "data": {
      "text/plain": [
       "\n",
       "  ROC curve\n",
       "\n",
       "    Area under curve:\n",
       "     0.9756814 \n",
       "\n",
       "    Curve not computed ( can be done by using curve=TRUE )"
      ]
     },
     "metadata": {},
     "output_type": "display_data"
    },
    {
     "data": {
      "text/html": [
       "0.918"
      ],
      "text/latex": [
       "0.918"
      ],
      "text/markdown": [
       "0.918"
      ],
      "text/plain": [
       "[1] 0.918"
      ]
     },
     "metadata": {},
     "output_type": "display_data"
    }
   ],
   "source": [
    "class2 <- keras_prob[test_set[,Y] == 'Class2']\n",
    "class1 <- keras_prob[test_set[,Y] == 'Class1']\n",
    "\n",
    "#Curve\n",
    "pr <- pr.curve(scores.class0 = class2, scores.class1 = class1)\n",
    "pr\n",
    "\n",
    "roc <- roc.curve(scores.class0 = class2, scores.class1 = class1)\n",
    "roc\n",
    "\n",
    "mean((keras_prob > .5 & test_set[,Y] == 'Class2') | (keras_prob <= .5 & test_set[,Y] != 'Class2') )"
   ]
  }
 ],
 "metadata": {
  "kernelspec": {
   "display_name": "R",
   "language": "R",
   "name": "ir"
  },
  "language_info": {
   "codemirror_mode": "r",
   "file_extension": ".r",
   "mimetype": "text/x-r-source",
   "name": "R",
   "pygments_lexer": "r",
   "version": "3.4.2"
  }
 },
 "nbformat": 4,
 "nbformat_minor": 2
}
